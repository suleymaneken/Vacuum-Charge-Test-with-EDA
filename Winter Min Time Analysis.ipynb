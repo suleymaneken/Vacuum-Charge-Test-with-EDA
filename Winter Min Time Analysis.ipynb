{
 "cells": [
  {
   "cell_type": "code",
   "execution_count": 5,
   "metadata": {},
   "outputs": [],
   "source": [
    "import pandas as pd\n",
    "pd.set_option('display.max_columns', None)\n",
    "vacuumdataa='vacuumdataa.csv'\n",
    "vd=pd.read_csv('vacuumdataa.csv')"
   ]
  },
  {
   "cell_type": "markdown",
   "metadata": {},
   "source": [
    "#0507035 - BOSCH BM30 110V PACS SBS 16 (B30BB930SS) için minimum zamanın belirlenmesi (Winter)"
   ]
  },
  {
   "cell_type": "code",
   "execution_count": 6,
   "metadata": {},
   "outputs": [
    {
     "data": {
      "text/plain": [
       "Hour       Pressure  Temperature [°C]\n",
       " 09:43:24  0.06      21.86               0-00:02:40\n",
       " 09:52:58  0.06      22.03               0-00:04:20\n",
       " 09:57:52  0.06      22.03               0-00:02:15\n",
       " 10:44:16  0.06      21.84               0-00:01:25\n",
       "10:09:13   0.06      22.11               0-00:00:00\n",
       "10:14:28   0.06      22.11               0-00:02:05\n",
       "10:19:09   0.06      22.11               0-00:01:40\n",
       "10:19:12   0.06      22.11               0-00:02:50\n",
       "10:44:12   0.06      21.84               0-00:02:00\n",
       "9:43:24    0.06      21.86               0-00:03:00\n",
       "9:52:55    0.06      22.03               0-00:02:20\n",
       "Name: Time, dtype: object"
      ]
     },
     "execution_count": 6,
     "metadata": {},
     "output_type": "execute_result"
    }
   ],
   "source": [
    "import pandas as pd\n",
    "vacuumdataa='vacuumdataa.csv'\n",
    "vd=pd.read_csv('vacuumdataa.csv')\n",
    "m=vd[\"Model\"].isin([\"0507035 - BOSCH BM30 110V PACS SBS 16 (B30BB930SS) \"]) & vd[\"Pressure\"].isin([0.06]) & vd[\"Period\"].isin([\"Winter\"])\n",
    "vd[m].groupby([\"Hour\" , \"Pressure\" , \"Temperature [°C]\"])[\"Time\"].min()"
   ]
  },
  {
   "cell_type": "markdown",
   "metadata": {},
   "source": [
    "#0200338 - MİELE 3 KAPI BM36  220V AU (MCII) (MB36YI030A) için minimum zamanın belirlenmesi (Winter)"
   ]
  },
  {
   "cell_type": "code",
   "execution_count": 7,
   "metadata": {},
   "outputs": [
    {
     "data": {
      "text/plain": [
       "Hour        Pressure  Temperature [°C]\n",
       "  16:33:18  0.06      26.54               0-00:02:30\n",
       "  17:10:27  0.06      26.00               0-00:02:00\n",
       " 16:33:23   0.06      26.54               0-00:01:00\n",
       " 17:10:30   0.06      26.00               0-00:01:05\n",
       " 19:50:05   0.06      27.56               0-00:00:30\n",
       "16:08:20    0.06      26.31               0-00:02:30\n",
       "16:08:23    0.06      26.31               0-00:01:10\n",
       "16:18:19    0.06      26.31               0-00:02:15\n",
       "16:18:23    0.06      26.31               0-00:01:15\n",
       "16:44:40    0.06      26.36               0-00:01:30\n",
       "16:44:44    0.06      26.36               0-00:01:00\n",
       "19:42:47    0.06      28.55               0-00:00:30\n",
       "19:43:26    0.06      28.55               0-00:01:05\n",
       "19:43:29    0.06      28.55               0-00:01:10\n",
       "19:43:32    0.06      28.55               0-00:01:15\n",
       "19:59:43    0.06      27.56               0-00:00:50\n",
       "Name: Time, dtype: object"
      ]
     },
     "execution_count": 7,
     "metadata": {},
     "output_type": "execute_result"
    }
   ],
   "source": [
    "import pandas as pd\n",
    "vacuumdataa='vacuumdataa.csv'\n",
    "vd=pd.read_csv('vacuumdata.csv')\n",
    "m=vd[\"Model\"].isin([\"0200338 - MİELE 3 KAPI BM36  220V AU (MCII) (MB36YI030A)\"]) & vd[\"Pressure\"].isin([0.06]) & vd[\"Period\"].isin([\"Winter\"])\n",
    "vd[m].groupby([\"Hour\" , \"Pressure\" , \"Temperature [°C]\"])[\"Time\"].min()"
   ]
  },
  {
   "cell_type": "markdown",
   "metadata": {},
   "source": [
    "#0626209 - GAGGENAU 2 KAPI BM30  220V (SBS16) (RB472304) için minimum zamanın belirlenmesi (Winter)"
   ]
  },
  {
   "cell_type": "code",
   "execution_count": 9,
   "metadata": {},
   "outputs": [
    {
     "data": {
      "text/plain": [
       "Hour        Pressure  Temperature [°C]\n",
       "  02:50:18  0.06      27.43               0-00:00:40\n",
       " 02:50:17   0.06      27.43               0-00:01:10\n",
       " 19:43:24   0.06      26.85               0-00:00:45\n",
       " 20:01:40   0.06      27.02               0-00:00:50\n",
       " 20:59:26   0.06      26.86               0-00:00:55\n",
       " 21:02:46   0.06      26.86               0-00:00:55\n",
       " 21:18:55   0.06      26.70               0-00:00:55\n",
       "19:43:22    0.06      26.85               0-00:01:05\n",
       "19:50:14    0.06      27.02               0-00:00:35\n",
       "19:50:17    0.06      27.02               0-00:00:50\n",
       "20:01:40    0.06      27.02               0-00:01:10\n",
       "20:59:24    0.06      26.86               0-00:00:40\n",
       "21:02:44    0.06      26.86               0-00:01:15\n",
       "21:18:49    0.06      26.70               0-00:00:40\n",
       "Name: Time, dtype: object"
      ]
     },
     "execution_count": 9,
     "metadata": {},
     "output_type": "execute_result"
    }
   ],
   "source": [
    "import pandas as pd\n",
    "vacuumdataa='vacuumdataa.csv'\n",
    "vd=pd.read_csv('vacuumdataa.csv')\n",
    "m=vd[\"Model\"].isin([\"0626209 - GAGGENAU 2 KAPI BM30  220V (SBS16) (RB472304)\"]) & vd[\"Pressure\"].isin([0.06]) & vd[\"Period\"].isin([\"Winter\"])\n",
    "vd[m].groupby([\"Hour\" , \"Pressure\" , \"Temperature [°C]\"])[\"Time\"].min()"
   ]
  },
  {
   "cell_type": "code",
   "execution_count": null,
   "metadata": {},
   "outputs": [],
   "source": []
  }
 ],
 "metadata": {
  "kernelspec": {
   "display_name": "Python 3",
   "language": "python",
   "name": "python3"
  },
  "language_info": {
   "codemirror_mode": {
    "name": "ipython",
    "version": 3
   },
   "file_extension": ".py",
   "mimetype": "text/x-python",
   "name": "python",
   "nbconvert_exporter": "python",
   "pygments_lexer": "ipython3",
   "version": "3.8.3"
  }
 },
 "nbformat": 4,
 "nbformat_minor": 4
}
