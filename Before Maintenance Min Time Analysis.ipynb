{
 "cells": [
  {
   "cell_type": "code",
   "execution_count": 1,
   "metadata": {},
   "outputs": [],
   "source": [
    "import pandas as pd\n",
    "pd.set_option('display.max_columns', None)\n",
    "vacuumdataa='vacuumdataa.csv'\n",
    "vd=pd.read_csv('vacuumdataa.csv')"
   ]
  },
  {
   "cell_type": "markdown",
   "metadata": {},
   "source": [
    "#0507034 - BOSCH BM30 110V SBS 16 (B30IB900SP) için minimum zamanın belirlenmesi (Before Maintenance)"
   ]
  },
  {
   "cell_type": "code",
   "execution_count": 5,
   "metadata": {},
   "outputs": [
    {
     "data": {
      "text/plain": [
       "Hour       Pressure  Temperature [°C]\n",
       " 11:29:40  0.06      22.64               0-00:00:40\n",
       "11:29:38   0.06      22.64               0-00:01:40\n",
       "Name: Time, dtype: object"
      ]
     },
     "execution_count": 5,
     "metadata": {},
     "output_type": "execute_result"
    }
   ],
   "source": [
    "import pandas as pd\n",
    "vacuumdataa='vacuumdataa.csv'\n",
    "vd=pd.read_csv('vacuumdataa.csv')\n",
    "m=vd[\"Model\"].isin([\"0200283 - MIELE BM36 3 KAPI  F.VER 110V (MCII)(MB36YE0305)\"]) & vd[\"Pressure\"].isin([0.06]) & vd[\"Period\"].isin([\"Before Maintenance\"])\n",
    "vd[m].groupby([\"Hour\" , \"Pressure\" , \"Temperature [°C]\"])[\"Time\"].min()"
   ]
  },
  {
   "cell_type": "markdown",
   "metadata": {},
   "source": [
    "#0287694 - THERMADOR BM36 2 KAPI  110V (SBS16) (T36IB900SP) için minimum zamanın belirlenmesi (Before Maintenance)"
   ]
  },
  {
   "cell_type": "code",
   "execution_count": 6,
   "metadata": {},
   "outputs": [
    {
     "data": {
      "text/plain": [
       "Hour       Pressure  Temperature [°C]\n",
       " 16:08:43  0.06      24.29               0-00:04:30\n",
       " 18:51:59  0.06      27.93               0-00:01:45\n",
       "16:08:43   0.06      24.29               0-00:04:30\n",
       "16:08:48   0.06      24.29               0-00:04:40\n",
       "17:53:32   0.06      27.59               0-00:02:00\n",
       "17:53:34   0.06      27.59               0-00:01:10\n",
       "18:47:12   0.06      27.93               0-00:04:45\n",
       "18:47:15   0.06      27.93               0-00:04:45\n",
       "18:52:00   0.06      27.93               0-00:01:15\n",
       "Name: Time, dtype: object"
      ]
     },
     "execution_count": 6,
     "metadata": {},
     "output_type": "execute_result"
    }
   ],
   "source": [
    "import pandas as pd\n",
    "vacuumdataa='vacuumdataa.csv'\n",
    "vd=pd.read_csv('vacuumdataa.csv')\n",
    "m=vd[\"Model\"].isin([\"0287694 - THERMADOR BM36 2 KAPI  110V (SBS16) (T36IB900SP)\"]) & vd[\"Pressure\"].isin([0.06]) & vd[\"Period\"].isin([\"Before Maintenance\"])\n",
    "vd[m].groupby([\"Hour\" , \"Pressure\" , \"Temperature [°C]\"])[\"Time\"].min()"
   ]
  },
  {
   "cell_type": "markdown",
   "metadata": {},
   "source": [
    "#0200903 - THERMADOR BM36 3 KAPI  110V (SBS16) (T36IT902SP) için minimum zamanın belirlenmesi (Before Maintenance)"
   ]
  },
  {
   "cell_type": "code",
   "execution_count": 7,
   "metadata": {},
   "outputs": [
    {
     "data": {
      "text/plain": [
       "Hour       Pressure  Date       Temperature [°C]\n",
       " 19:52:36  0.06      2/13/2020  26.50               0-00:00:10\n",
       "19:07:06   0.06      2/13/2020  26.75               0-00:03:15\n",
       "19:07:08   0.06      2/13/2020  26.75               0-00:01:20\n",
       "19:17:21   0.06      2/13/2020  26.75               0-00:01:15\n",
       "19:23:05   0.06      2/13/2020  26.57               0-00:00:10\n",
       "19:23:07   0.06      2/13/2020  26.57               0-00:05:40\n",
       "19:25:13   0.06      2/13/2020  26.57               0-00:01:50\n",
       "19:25:16   0.06      2/13/2020  26.57               0-00:01:05\n",
       "19:34:19   0.06      2/13/2020  26.57               0-00:01:40\n",
       "19:34:25   0.06      2/13/2020  26.57               0-00:01:05\n",
       "19:35:17   0.06      2/13/2020  26.57               0-00:01:30\n",
       "19:35:21   0.06      2/13/2020  26.57               0-00:01:20\n",
       "19:52:33   0.06      2/13/2020  26.50               0-00:01:00\n",
       "Name: Time, dtype: object"
      ]
     },
     "execution_count": 7,
     "metadata": {},
     "output_type": "execute_result"
    }
   ],
   "source": [
    "import pandas as pd\n",
    "vacuumdataa='vacuumdataa.csv'\n",
    "vd=pd.read_csv('vacuumdataa.csv')\n",
    "m=vd[\"Model\"].isin([\"0200903 - THERMADOR BM36 3 KAPI  110V (SBS16) (T36IT902SP)\"]) & vd[\"Pressure\"].isin([0.06]) & vd[\"Period\"].isin([\"Before Maintenance\"])\n",
    "vd[m].groupby([\"Hour\" , \"Pressure\" ,  \"Date\" ,  \"Temperature [°C]\"])[\"Time\"].min()"
   ]
  },
  {
   "cell_type": "code",
   "execution_count": null,
   "metadata": {},
   "outputs": [],
   "source": []
  }
 ],
 "metadata": {
  "kernelspec": {
   "display_name": "Python 3",
   "language": "python",
   "name": "python3"
  },
  "language_info": {
   "codemirror_mode": {
    "name": "ipython",
    "version": 3
   },
   "file_extension": ".py",
   "mimetype": "text/x-python",
   "name": "python",
   "nbconvert_exporter": "python",
   "pygments_lexer": "ipython3",
   "version": "3.8.3"
  }
 },
 "nbformat": 4,
 "nbformat_minor": 4
}
