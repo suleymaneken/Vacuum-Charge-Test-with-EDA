{
 "cells": [
  {
   "cell_type": "code",
   "execution_count": 6,
   "metadata": {},
   "outputs": [],
   "source": [
    "import pandas as pd\n",
    "pd.set_option('display.max_columns', None)\n",
    "vacuumdataa='vacuumdataa.csv'\n",
    "vd=pd.read_csv('vacuumdataa.csv')"
   ]
  },
  {
   "cell_type": "markdown",
   "metadata": {},
   "source": [
    "#0200338 - MİELE 3 KAPI BM36  220V AU (MCII) (MB36YI030A) için minimum zamanın belirlenmesi (Summer)"
   ]
  },
  {
   "cell_type": "code",
   "execution_count": 7,
   "metadata": {},
   "outputs": [
    {
     "data": {
      "text/plain": [
       "Hour      Pressure  Date       Temperature [°C]\n",
       "20:17:24  0.06      5/11/2020  29.35               0-00:01:15\n",
       "20:17:26  0.06      5/11/2020  29.35               0-00:00:50\n",
       "20:22:35  0.06      5/11/2020  28.81               0-00:01:20\n",
       "20:22:37  0.06      5/11/2020  28.81               0-00:01:00\n",
       "20:30:27  0.06      5/11/2020  28.81               0-00:01:15\n",
       "21:25:09  0.06      5/11/2020  28.27               0-00:01:50\n",
       "21:25:15  0.06      5/11/2020  28.27               0-00:00:55\n",
       "21:36:54  0.06      5/11/2020  28.27               0-00:01:35\n",
       "21:36:56  0.06      5/11/2020  28.27               0-00:01:15\n",
       "21:37:25  0.06      5/11/2020  28.27               0-00:01:55\n",
       "22:00:37  0.06      5/11/2020  27.52               0-00:00:30\n",
       "22:00:38  0.06      5/11/2020  27.52               0-00:00:05\n",
       "22:00:42  0.06      5/11/2020  27.52               0-00:00:55\n",
       "22:00:46  0.06      5/11/2020  27.52               0-00:00:05\n",
       "22:32:15  0.06      5/11/2020  26.53               0-00:01:00\n",
       "22:32:18  0.06      5/11/2020  26.53               0-00:00:25\n",
       "22:32:20  0.06      5/11/2020  26.53               0-00:01:05\n",
       "Name: Time, dtype: object"
      ]
     },
     "execution_count": 7,
     "metadata": {},
     "output_type": "execute_result"
    }
   ],
   "source": [
    "import pandas as pd\n",
    "vacuumdataa='vacuumdataa.csv'\n",
    "vd=pd.read_csv('vacuumdataa.csv')\n",
    "m=vd[\"Model\"].isin([\"0200338 - MİELE 3 KAPI BM36  220V AU (MCII) (MB36YI030A)\"]) & vd[\"Pressure\"].isin([0.06]) & vd[\"Period\"].isin([\"Summer\"])\n",
    "vd[m].groupby([\"Hour\" , \"Pressure\" ,  \"Date\" , \"Temperature [°C]\"])[\"Time\"].min()"
   ]
  },
  {
   "cell_type": "markdown",
   "metadata": {},
   "source": [
    "#0287698 - THERMADOR BM36 3 KAPI 110V (SBS16) (T36BT920NS) için minimum zamanın belirlenmesi (Summer)"
   ]
  },
  {
   "cell_type": "code",
   "execution_count": 8,
   "metadata": {},
   "outputs": [
    {
     "data": {
      "text/plain": [
       "Hour      Pressure  Date      Temperature [°C]\n",
       "16:13:24  0.06      5/8/2019  22.89               0-00:01:50\n",
       "16:13:27  0.06      5/8/2019  22.89               0-00:01:25\n",
       "16:24:36  0.06      5/8/2019  22.18               0-00:01:55\n",
       "16:24:40  0.06      5/8/2019  22.18               0-00:01:35\n",
       "16:25:20  0.06      5/8/2019  22.18               0-00:01:45\n",
       "16:32:27  0.06      5/8/2019  22.18               0-00:06:25\n",
       "16:32:28  0.06      5/8/2019  22.18               0-00:00:05\n",
       "16:32:54  0.06      5/8/2019  22.18               0-00:01:45\n",
       "16:32:57  0.06      5/8/2019  22.18               0-00:02:05\n",
       "16:45:20  0.06      5/8/2019  21.71               0-00:03:15\n",
       "16:45:23  0.06      5/8/2019  21.71               0-00:01:20\n",
       "17:03:51  0.06      5/8/2019  21.94               0-00:01:20\n",
       "17:03:54  0.06      5/8/2019  21.94               0-00:02:15\n",
       "Name: Time, dtype: object"
      ]
     },
     "execution_count": 8,
     "metadata": {},
     "output_type": "execute_result"
    }
   ],
   "source": [
    "import pandas as pd\n",
    "vacuumdataa='vacuumdataa.csv'\n",
    "vd=pd.read_csv('vacuumdataa.csv')\n",
    "m=vd[\"Model\"].isin([\"0287698 - THERMADOR BM36 3 KAPI  110V (SBS16) (T36BT920NS)\"]) & vd[\"Pressure\"].isin([0.06]) & vd[\"Period\"].isin([\"Summer\"])\n",
    "vd[m].groupby([\"Hour\" , \"Pressure\" , \"Date\", \"Temperature [°C]\"])[\"Time\"].min()"
   ]
  },
  {
   "cell_type": "markdown",
   "metadata": {},
   "source": [
    "#0384487 - SIEMENS 3 KAPI BM36  220V (SBS18)(CI36TP02) (Summer)"
   ]
  },
  {
   "cell_type": "code",
   "execution_count": 9,
   "metadata": {},
   "outputs": [
    {
     "data": {
      "text/plain": [
       "Hour      Pressure  Date       Temperature [°C]\n",
       "10:38:52  0.06      5/23/2019  24.80               0-00:01:00\n",
       "10:38:54  0.06      5/23/2019  24.80               0-00:00:50\n",
       "10:51:42  0.06      5/23/2019  24.80               0-00:01:00\n",
       "10:51:44  0.06      5/23/2019  24.80               0-00:01:00\n",
       "11:02:21  0.06      5/23/2019  25.11               0-00:00:10\n",
       "11:02:22  0.06      5/23/2019  25.11               0-00:00:30\n",
       "11:04:37  0.06      5/23/2019  25.11               0-00:01:15\n",
       "11:04:38  0.06      5/23/2019  25.11               0-00:00:55\n",
       "11:12:51  0.06      5/23/2019  25.11               0-00:00:45\n",
       "11:15:21  0.06      5/23/2019  25.35               0-00:01:05\n",
       "Name: Time, dtype: object"
      ]
     },
     "execution_count": 9,
     "metadata": {},
     "output_type": "execute_result"
    }
   ],
   "source": [
    "import pandas as pd\n",
    "vacuumdataa='vacuumdataa.csv'\n",
    "vd=pd.read_csv('vacuumdataa.csv')\n",
    "m=vd[\"Model\"].isin([\"0384487 - SIEMENS 3 KAPI BM36  220V (SBS18)(CI36TP02)\"]) & vd[\"Pressure\"].isin([0.06]) & vd[\"Period\"].isin([\"Summer\"])\n",
    "vd[m].groupby([\"Hour\" , \"Pressure\" ,  \"Date\" ,  \"Temperature [°C]\"])[\"Time\"].min()"
   ]
  },
  {
   "cell_type": "markdown",
   "metadata": {},
   "source": [
    "#0507034 - BOSCH BM30 110V SBS 16 (B30IB900SP) için minimum zamanın belirlenmesi (Summer)"
   ]
  },
  {
   "cell_type": "code",
   "execution_count": 10,
   "metadata": {},
   "outputs": [
    {
     "data": {
      "text/plain": [
       "Hour       Pressure  Date      Temperature [°C]\n",
       " 19:46:12  0.06      5/6/2019  25.87               0-00:00:10\n",
       "19:38:29   0.06      5/6/2019  25.87               0-00:02:00\n",
       "19:38:31   0.06      5/6/2019  25.87               0-00:02:15\n",
       "19:39:19   0.06      5/6/2019  25.87               0-00:04:00\n",
       "19:46:16   0.06      5/6/2019  25.87               0-00:03:05\n",
       "19:46:41   0.06      5/6/2019  25.87               0-00:02:10\n",
       "19:46:43   0.06      5/6/2019  25.87               0-00:04:05\n",
       "19:58:56   0.06      5/6/2019  26.01               0-00:02:30\n",
       "19:59:51   0.06      5/6/2019  26.01               0-00:02:10\n",
       "19:59:52   0.06      5/6/2019  26.01               0-00:04:50\n",
       "20:11:16   0.06      5/6/2019  26.01               0-00:02:25\n",
       "20:11:18   0.06      5/6/2019  26.01               0-00:04:05\n",
       "Name: Time, dtype: object"
      ]
     },
     "execution_count": 10,
     "metadata": {},
     "output_type": "execute_result"
    }
   ],
   "source": [
    "import pandas as pd\n",
    "vacuumdataa='vacuumdataa.csv'\n",
    "vd=pd.read_csv('vacuumdataa.csv')\n",
    "m=vd[\"Model\"].isin([\"0507034 - BOSCH BM30 110V SBS 16 (B30IB900SP) \"]) & vd[\"Pressure\"].isin([0.06]) & vd[\"Period\"].isin([\"Summer\"])\n",
    "vd[m].groupby([\"Hour\" , \"Pressure\" ,  \"Date\" ,  \"Temperature [°C]\"])[\"Time\"].min()"
   ]
  },
  {
   "cell_type": "code",
   "execution_count": null,
   "metadata": {},
   "outputs": [],
   "source": []
  }
 ],
 "metadata": {
  "kernelspec": {
   "display_name": "Python 3",
   "language": "python",
   "name": "python3"
  },
  "language_info": {
   "codemirror_mode": {
    "name": "ipython",
    "version": 3
   },
   "file_extension": ".py",
   "mimetype": "text/x-python",
   "name": "python",
   "nbconvert_exporter": "python",
   "pygments_lexer": "ipython3",
   "version": "3.8.3"
  }
 },
 "nbformat": 4,
 "nbformat_minor": 4
}
