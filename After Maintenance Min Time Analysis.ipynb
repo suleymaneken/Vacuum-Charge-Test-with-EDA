{
 "cells": [
  {
   "cell_type": "code",
   "execution_count": 1,
   "metadata": {},
   "outputs": [],
   "source": [
    "import pandas as pd\n",
    "pd.set_option('display.max_columns', None)\n",
    "vacuumdataa='vacuumdataa.csv'\n",
    "vd=pd.read_csv('vacuumdataa.csv')"
   ]
  },
  {
   "cell_type": "code",
   "execution_count": 4,
   "metadata": {},
   "outputs": [
    {
     "data": {
      "text/plain": [
       "Hour       Pressure  Temperature [°C]\n",
       " 11:24:25  0.06      23.40               0-00:01:10\n",
       " 11:24:27  0.06      23.40               0-00:00:45\n",
       " 11:43:51  0.06      23.88               0-00:00:40\n",
       " 13:07:13  0.06      24.39               0-00:00:50\n",
       " 20:17:26  0.06      29.35               0-00:00:45\n",
       "11:24:25   0.06      23.40               0-00:01:10\n",
       "11:56:39   0.06      23.88               0-00:05:15\n",
       "11:56:41   0.06      23.88               0-00:05:05\n",
       "13:07:11   0.06      24.39               0-00:01:15\n",
       "20:17:24   0.06      29.35               0-00:01:10\n",
       "Name: Time, dtype: object"
      ]
     },
     "execution_count": 4,
     "metadata": {},
     "output_type": "execute_result"
    }
   ],
   "source": [
    "import pandas as pd\n",
    "vacuumdataa='vacuumdataa.csv'\n",
    "vd=pd.read_csv('vacuumdataa.csv')\n",
    "m=vd[\"Model\"].isin([\"0200338 - MİELE 3 KAPI BM36  220V AU (MCII) (MB36YI030A)\"]) & vd[\"Pressure\"].isin([0.06]) & vd[\"Period\"].isin([\"After Maintenance\"])\n",
    "vd[m].groupby([\"Hour\" , \"Pressure\" , \"Temperature [°C]\"])[\"Time\"].min()"
   ]
  },
  {
   "cell_type": "markdown",
   "metadata": {},
   "source": [
    "#0507034 - BOSCH BM30 110V SBS 16 (B30IB900SP) için minimum zamanın belirlenmesi (After Maintenance)"
   ]
  },
  {
   "cell_type": "code",
   "execution_count": 5,
   "metadata": {},
   "outputs": [
    {
     "data": {
      "text/plain": [
       "Hour     Pressure  Temperature [°C]\n",
       "8:15:47  0.06      20.39               0-00:04:10\n",
       "8:15:48  0.06      20.39               0-00:01:15\n",
       "8:23:25  0.06      20.34               0-00:03:45\n",
       "8:23:28  0.06      20.34               0-00:01:10\n",
       "8:31:06  0.06      20.34               0-00:01:30\n",
       "8:31:08  0.06      20.34               0-00:02:10\n",
       "9:13:53  0.06      20.53               0-00:01:05\n",
       "9:13:55  0.06      20.53               0-00:01:05\n",
       "Name: Time, dtype: object"
      ]
     },
     "execution_count": 5,
     "metadata": {},
     "output_type": "execute_result"
    }
   ],
   "source": [
    "import pandas as pd\n",
    "vacuumdataa='vacuumdataa.csv'\n",
    "vd=pd.read_csv('vacuumdataa.csv')\n",
    "m2=vd[\"Model\"].isin([\"0507034 - BOSCH BM30 110V SBS 16 (B30IB900SP) \"]) & vd[\"Pressure\"].isin([0.06]) & vd[\"Period\"].isin([\"After Maintenance\"])\n",
    "vd[m2].groupby([\"Hour\" , \"Pressure\" , \"Temperature [°C]\"])[\"Time\"].min()"
   ]
  },
  {
   "cell_type": "markdown",
   "metadata": {},
   "source": []
  }
 ],
 "metadata": {
  "kernelspec": {
   "display_name": "Python 3",
   "language": "python",
   "name": "python3"
  },
  "language_info": {
   "codemirror_mode": {
    "name": "ipython",
    "version": 3
   },
   "file_extension": ".py",
   "mimetype": "text/x-python",
   "name": "python",
   "nbconvert_exporter": "python",
   "pygments_lexer": "ipython3",
   "version": "3.8.3"
  }
 },
 "nbformat": 4,
 "nbformat_minor": 4
}
